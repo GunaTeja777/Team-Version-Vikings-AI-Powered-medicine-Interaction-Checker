{
 "cells": [
  {
   "cell_type": "code",
   "execution_count": 2,
   "metadata": {},
   "outputs": [],
   "source": [
    "import pandas as pd"
   ]
  },
  {
   "cell_type": "code",
   "execution_count": 4,
   "metadata": {},
   "outputs": [
    {
     "name": "stderr",
     "output_type": "stream",
     "text": [
      "<>:1: SyntaxWarning: invalid escape sequence '\\i'\n",
      "<>:1: SyntaxWarning: invalid escape sequence '\\i'\n",
      "C:\\Users\\GUNATEJA\\AppData\\Local\\Temp\\ipykernel_592\\1026047947.py:1: SyntaxWarning: invalid escape sequence '\\i'\n",
      "  indication=pd.read_csv('data\\indication.csv')\n"
     ]
    }
   ],
   "source": [
    "indication=pd.read_csv('data\\indication.csv')"
   ]
  },
  {
   "cell_type": "code",
   "execution_count": 6,
   "metadata": {},
   "outputs": [
    {
     "data": {
      "text/html": [
       "<div>\n",
       "<style scoped>\n",
       "    .dataframe tbody tr th:only-of-type {\n",
       "        vertical-align: middle;\n",
       "    }\n",
       "\n",
       "    .dataframe tbody tr th {\n",
       "        vertical-align: top;\n",
       "    }\n",
       "\n",
       "    .dataframe thead th {\n",
       "        text-align: right;\n",
       "    }\n",
       "</style>\n",
       "<table border=\"1\" class=\"dataframe\">\n",
       "  <thead>\n",
       "    <tr style=\"text-align: right;\">\n",
       "      <th></th>\n",
       "      <th>indication id</th>\n",
       "      <th>indication name</th>\n",
       "      <th>slug</th>\n",
       "      <th>generics count</th>\n",
       "    </tr>\n",
       "  </thead>\n",
       "  <tbody>\n",
       "    <tr>\n",
       "      <th>0</th>\n",
       "      <td>2011</td>\n",
       "      <td>Acrocyanosis</td>\n",
       "      <td>acrocyanosis-2011</td>\n",
       "      <td>1</td>\n",
       "    </tr>\n",
       "    <tr>\n",
       "      <th>1</th>\n",
       "      <td>2010</td>\n",
       "      <td>Acquired immunodeficiency syndrome (AIDS)</td>\n",
       "      <td>acquired-immunodeficiency-syndrome-aids-2010</td>\n",
       "      <td>10</td>\n",
       "    </tr>\n",
       "    <tr>\n",
       "      <th>2</th>\n",
       "      <td>2009</td>\n",
       "      <td>Acne vulgaris</td>\n",
       "      <td>acne-vulgaris-2009</td>\n",
       "      <td>37</td>\n",
       "    </tr>\n",
       "    <tr>\n",
       "      <th>3</th>\n",
       "      <td>3908</td>\n",
       "      <td>Acne rosacea</td>\n",
       "      <td>acne-rosacea-3908</td>\n",
       "      <td>0</td>\n",
       "    </tr>\n",
       "    <tr>\n",
       "      <th>4</th>\n",
       "      <td>2008</td>\n",
       "      <td>Acidosis</td>\n",
       "      <td>acidosis-2008</td>\n",
       "      <td>2</td>\n",
       "    </tr>\n",
       "  </tbody>\n",
       "</table>\n",
       "</div>"
      ],
      "text/plain": [
       "   indication id                            indication name  \\\n",
       "0           2011                               Acrocyanosis   \n",
       "1           2010  Acquired immunodeficiency syndrome (AIDS)   \n",
       "2           2009                              Acne vulgaris   \n",
       "3           3908                               Acne rosacea   \n",
       "4           2008                                   Acidosis   \n",
       "\n",
       "                                           slug  generics count  \n",
       "0                             acrocyanosis-2011               1  \n",
       "1  acquired-immunodeficiency-syndrome-aids-2010              10  \n",
       "2                            acne-vulgaris-2009              37  \n",
       "3                             acne-rosacea-3908               0  \n",
       "4                                 acidosis-2008               2  "
      ]
     },
     "execution_count": 6,
     "metadata": {},
     "output_type": "execute_result"
    }
   ],
   "source": [
    "indication.head()"
   ]
  },
  {
   "cell_type": "code",
   "execution_count": 7,
   "metadata": {},
   "outputs": [
    {
     "data": {
      "text/plain": [
       "(2043, 4)"
      ]
     },
     "execution_count": 7,
     "metadata": {},
     "output_type": "execute_result"
    }
   ],
   "source": [
    "indication.shape"
   ]
  },
  {
   "cell_type": "code",
   "execution_count": 13,
   "metadata": {},
   "outputs": [
    {
     "data": {
      "text/html": [
       "<div>\n",
       "<style scoped>\n",
       "    .dataframe tbody tr th:only-of-type {\n",
       "        vertical-align: middle;\n",
       "    }\n",
       "\n",
       "    .dataframe tbody tr th {\n",
       "        vertical-align: top;\n",
       "    }\n",
       "\n",
       "    .dataframe thead th {\n",
       "        text-align: right;\n",
       "    }\n",
       "</style>\n",
       "<table border=\"1\" class=\"dataframe\">\n",
       "  <thead>\n",
       "    <tr style=\"text-align: right;\">\n",
       "      <th></th>\n",
       "      <th>indication id</th>\n",
       "      <th>indication name</th>\n",
       "      <th>slug</th>\n",
       "      <th>generics count</th>\n",
       "    </tr>\n",
       "  </thead>\n",
       "  <tbody>\n",
       "    <tr>\n",
       "      <th>2</th>\n",
       "      <td>2009</td>\n",
       "      <td>Acne vulgaris</td>\n",
       "      <td>acne-vulgaris-2009</td>\n",
       "      <td>37</td>\n",
       "    </tr>\n",
       "  </tbody>\n",
       "</table>\n",
       "</div>"
      ],
      "text/plain": [
       "   indication id indication name                slug  generics count\n",
       "2           2009   Acne vulgaris  acne-vulgaris-2009              37"
      ]
     },
     "execution_count": 13,
     "metadata": {},
     "output_type": "execute_result"
    }
   ],
   "source": [
    "#example\n",
    "indication[indication[\"indication name\"]==\"Acne vulgaris\"]"
   ]
  },
  {
   "cell_type": "code",
   "execution_count": 10,
   "metadata": {},
   "outputs": [
    {
     "data": {
      "text/plain": [
       "0                               acrocyanosis-2011\n",
       "1    acquired-immunodeficiency-syndrome-aids-2010\n",
       "2                              acne-vulgaris-2009\n",
       "3                               acne-rosacea-3908\n",
       "4                                   acidosis-2008\n",
       "5                     acid-related-dyspepsia-2007\n",
       "6                         acid-regurgitation-2006\n",
       "7                                  achalasia-2005\n",
       "8                           absence-seizures-2004\n",
       "9                                  abscesses-2003\n",
       "Name: slug, dtype: object"
      ]
     },
     "execution_count": 10,
     "metadata": {},
     "output_type": "execute_result"
    }
   ],
   "source": [
    "indication['slug'].head(10)"
   ]
  },
  {
   "cell_type": "code",
   "execution_count": 14,
   "metadata": {},
   "outputs": [
    {
     "data": {
      "text/plain": [
       "Index(['indication id', 'indication name', 'slug', 'generics count'], dtype='object')"
      ]
     },
     "execution_count": 14,
     "metadata": {},
     "output_type": "execute_result"
    }
   ],
   "source": [
    "indication.columns"
   ]
  },
  {
   "cell_type": "code",
   "execution_count": 15,
   "metadata": {},
   "outputs": [],
   "source": [
    "import string\n",
    "indication['indication name']=indication['indication name'].str.lower().str.translate(str.maketrans('','',string.punctuation))"
   ]
  },
  {
   "cell_type": "code",
   "execution_count": 16,
   "metadata": {},
   "outputs": [
    {
     "data": {
      "text/html": [
       "<div>\n",
       "<style scoped>\n",
       "    .dataframe tbody tr th:only-of-type {\n",
       "        vertical-align: middle;\n",
       "    }\n",
       "\n",
       "    .dataframe tbody tr th {\n",
       "        vertical-align: top;\n",
       "    }\n",
       "\n",
       "    .dataframe thead th {\n",
       "        text-align: right;\n",
       "    }\n",
       "</style>\n",
       "<table border=\"1\" class=\"dataframe\">\n",
       "  <thead>\n",
       "    <tr style=\"text-align: right;\">\n",
       "      <th></th>\n",
       "      <th>indication id</th>\n",
       "      <th>indication name</th>\n",
       "      <th>slug</th>\n",
       "      <th>generics count</th>\n",
       "    </tr>\n",
       "  </thead>\n",
       "  <tbody>\n",
       "    <tr>\n",
       "      <th>0</th>\n",
       "      <td>2011</td>\n",
       "      <td>acrocyanosis</td>\n",
       "      <td>acrocyanosis-2011</td>\n",
       "      <td>1</td>\n",
       "    </tr>\n",
       "    <tr>\n",
       "      <th>1</th>\n",
       "      <td>2010</td>\n",
       "      <td>acquired immunodeficiency syndrome aids</td>\n",
       "      <td>acquired-immunodeficiency-syndrome-aids-2010</td>\n",
       "      <td>10</td>\n",
       "    </tr>\n",
       "    <tr>\n",
       "      <th>2</th>\n",
       "      <td>2009</td>\n",
       "      <td>acne vulgaris</td>\n",
       "      <td>acne-vulgaris-2009</td>\n",
       "      <td>37</td>\n",
       "    </tr>\n",
       "    <tr>\n",
       "      <th>3</th>\n",
       "      <td>3908</td>\n",
       "      <td>acne rosacea</td>\n",
       "      <td>acne-rosacea-3908</td>\n",
       "      <td>0</td>\n",
       "    </tr>\n",
       "    <tr>\n",
       "      <th>4</th>\n",
       "      <td>2008</td>\n",
       "      <td>acidosis</td>\n",
       "      <td>acidosis-2008</td>\n",
       "      <td>2</td>\n",
       "    </tr>\n",
       "  </tbody>\n",
       "</table>\n",
       "</div>"
      ],
      "text/plain": [
       "   indication id                          indication name  \\\n",
       "0           2011                             acrocyanosis   \n",
       "1           2010  acquired immunodeficiency syndrome aids   \n",
       "2           2009                            acne vulgaris   \n",
       "3           3908                             acne rosacea   \n",
       "4           2008                                 acidosis   \n",
       "\n",
       "                                           slug  generics count  \n",
       "0                             acrocyanosis-2011               1  \n",
       "1  acquired-immunodeficiency-syndrome-aids-2010              10  \n",
       "2                            acne-vulgaris-2009              37  \n",
       "3                             acne-rosacea-3908               0  \n",
       "4                                 acidosis-2008               2  "
      ]
     },
     "execution_count": 16,
     "metadata": {},
     "output_type": "execute_result"
    }
   ],
   "source": [
    "indication.head()"
   ]
  },
  {
   "cell_type": "code",
   "execution_count": 17,
   "metadata": {},
   "outputs": [],
   "source": [
    "from sklearn.feature_extraction.text import TfidfVectorizer\n",
    "from sklearn.metrics.pairwise import cosine_similarity"
   ]
  },
  {
   "cell_type": "code",
   "execution_count": 26,
   "metadata": {},
   "outputs": [],
   "source": [
    "user_input = \"i have feaver\".lower().translate(str.maketrans('', '', string.punctuation))\n",
    "combined_data = indication['indication name'].tolist() + [user_input]\n",
    "tfidf = TfidfVectorizer()\n",
    "tfidf_matrix = tfidf.fit_transform(combined_data)\n",
    "similarity_scores = cosine_similarity(tfidf_matrix[-1], tfidf_matrix[:-1])\n",
    "best_match_index = similarity_scores.argsort()[0][-1]\n",
    "best_match = indication['indication name'].iloc[best_match_index]\n",
    "best_score = similarity_scores[0, best_match_index]"
   ]
  },
  {
   "cell_type": "code",
   "execution_count": 27,
   "metadata": {},
   "outputs": [
    {
     "name": "stdout",
     "output_type": "stream",
     "text": [
      "The best match for 'i have feaver' is 'acrocyanosis' with a similarity score of 0.00\n"
     ]
    }
   ],
   "source": [
    "print(f\"The best match for '{user_input}' is '{best_match}' with a similarity score of {best_score:.2f}\")"
   ]
  },
  {
   "cell_type": "code",
   "execution_count": null,
   "metadata": {},
   "outputs": [],
   "source": []
  }
 ],
 "metadata": {
  "kernelspec": {
   "display_name": "env",
   "language": "python",
   "name": "python3"
  },
  "language_info": {
   "codemirror_mode": {
    "name": "ipython",
    "version": 3
   },
   "file_extension": ".py",
   "mimetype": "text/x-python",
   "name": "python",
   "nbconvert_exporter": "python",
   "pygments_lexer": "ipython3",
   "version": "3.12.4"
  }
 },
 "nbformat": 4,
 "nbformat_minor": 2
}
